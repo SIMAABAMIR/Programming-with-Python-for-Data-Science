{
 "cells": [
  {
   "cell_type": "markdown",
   "metadata": {},
   "source": [
    "# DAT210x - Programming with Python for DS"
   ]
  },
  {
   "cell_type": "markdown",
   "metadata": {},
   "source": [
    "## Module2 - Lab5"
   ]
  },
  {
   "cell_type": "markdown",
   "metadata": {},
   "source": [
    "## Lab Assignment 5\n",
    "\n",
    "Barry Becker extracted a reasonably clean subset of the 1994, [U.S. Census database](https://archive.ics.uci.edu/ml/datasets/Census+Income), with a goal of running predictions to determine whether a person makes over 50K a year. The dataset is hosted on the University of California, Irvine's Machine Learning Repository and includes features such as the person's age, occupation, and hours worked per week, etc.\n",
    "\n",
    "As clean as the data is, it still isn't quite ready for analysis by SciKit-Learn! Using what you've learned in this chapter, clean up the various columns by encode them properly using the best practices so that they're ready to be examined. We've included a modifies subset of the dataset at Module2/Datasets/<b>census.data</b> and also have some started code to get you going located at Module2/assignment5.py.\n",
    "\n",
    "<ol>\n",
    "<li>Load up the dataset and set header label names to:\n",
    "['education', 'age', 'capital-gain', 'race', 'capital-loss', 'hours-per-week', 'sex', 'classification']</li>\n",
    "\n",
    "<p>Ensure you use the right command to do this, as there is more than one command! To verify you used the correct one, open the dataset in a text editor like SublimeText or Notepad, and double check your df.head() to ensure the first values match up.</p>\n",
    "\n",
    "<p><li>Make sure any value that needs to be replaced with a NAN is set as such. There are at least three ways to do this. One is much easier than the other two.</li>\n",
    "<p><li>Look through the dataset and ensure all of your columns have appropriate data types. Numeric columns should be float64 or int64, and textual columns should be object.</li>\n",
    "<p><li>Properly encode any ordinal features using the method discussed in the chapter.</li>\n",
    "<p><li>Properly encode any nominal features by exploding them out into new, separate, boolean features.</li>\n",
    "</ol>"
   ]
  },
  {
   "cell_type": "markdown",
   "metadata": {
    "collapsed": true
   },
   "source": [
    "Import and alias Pandas:"
   ]
  },
  {
   "cell_type": "code",
   "execution_count": 34,
   "metadata": {},
   "outputs": [],
   "source": [
    "# .. your code here ..\n",
    "import pandas as pd"
   ]
  },
  {
   "cell_type": "code",
   "execution_count": 35,
   "metadata": {},
   "outputs": [],
   "source": [
    "# pd.read_csv?"
   ]
  },
  {
   "cell_type": "markdown",
   "metadata": {},
   "source": [
    "As per usual, load up the specified dataset, setting appropriate header labels."
   ]
  },
  {
   "cell_type": "code",
   "execution_count": 36,
   "metadata": {},
   "outputs": [
    {
     "name": "stdout",
     "output_type": "stream",
     "text": [
      "   education  age  capital-gain   race  capital-loss  hours-per-week     sex  \\\n",
      "0  Bachelors   39        2174.0  White             0              40    Male   \n",
      "1  Bachelors   50           NaN  White             0              13    Male   \n",
      "2    HS-grad   38           NaN  White             0              40    Male   \n",
      "3       11th   53           NaN  Black             0              40    Male   \n",
      "4  Bachelors   28           0.0  Black             0              40  Female   \n",
      "\n",
      "  classification  \n",
      "0          <=50K  \n",
      "1          <=50K  \n",
      "2          <=50K  \n",
      "3          <=50K  \n",
      "4          <=50K  \n"
     ]
    }
   ],
   "source": [
    "# .. your code here ..\n",
    "col_name=['education', 'age', 'capital-gain', 'race', 'capital-loss',\n",
    "    'hours-per-week', 'sex', 'classification']\n",
    "df=pd.read_csv('Datasets/census.data',names=col_name,header=None,na_values='?')\n",
    "print(df.head())\n"
   ]
  },
  {
   "cell_type": "markdown",
   "metadata": {},
   "source": [
    "Excellent.\n",
    "\n",
    "Now, use basic pandas commands to look through the dataset. Get a feel for it before proceeding!\n",
    "\n",
    "Do the data-types of each column reflect the values you see when you look through the data using a text editor / spread sheet program? If you see `object` where you expect to see `int32` or `float64`, that is a good indicator that there might be a string or missing value or erroneous value in the column."
   ]
  },
  {
   "cell_type": "code",
   "execution_count": 37,
   "metadata": {},
   "outputs": [
    {
     "name": "stdout",
     "output_type": "stream",
     "text": [
      "                age  capital-gain  capital-loss  hours-per-week\n",
      "count  29536.000000  29532.000000  29536.000000    29536.000000\n",
      "mean      38.506094    928.454321     84.957408       40.243872\n",
      "std       13.811739   6557.886804    397.107750       12.326211\n",
      "min       17.000000      0.000000      0.000000        1.000000\n",
      "25%       27.000000      0.000000      0.000000       40.000000\n",
      "50%       37.000000      0.000000      0.000000       40.000000\n",
      "75%       48.000000      0.000000      0.000000       45.000000\n",
      "max       90.000000  99999.000000   4356.000000       99.000000\n",
      "education          object\n",
      "age                 int64\n",
      "capital-gain      float64\n",
      "race               object\n",
      "capital-loss        int64\n",
      "hours-per-week      int64\n",
      "sex                object\n",
      "classification     object\n",
      "dtype: object\n"
     ]
    }
   ],
   "source": [
    "# .. your code here ..\n",
    "print(df.describe())\n",
    "print(df.dtypes)\n"
   ]
  },
  {
   "cell_type": "markdown",
   "metadata": {},
   "source": [
    "Try use `your_data_frame['your_column'].unique()` or equally, `your_data_frame.your_column.unique()` to see the unique values of each column and identify the rogue values.\n",
    "\n",
    "If you find any value that should be properly encoded to NaNs, you can convert them either using the `na_values` parameter when loading the dataframe. Or alternatively, use one of the other methods discussed in the reading."
   ]
  },
  {
   "cell_type": "code",
   "execution_count": 38,
   "metadata": {},
   "outputs": [
    {
     "name": "stdout",
     "output_type": "stream",
     "text": [
      "education :  ['Bachelors' 'HS-grad' '11th' 'Masters' '9th' 'Some-college' '7th-8th'\n",
      " 'Doctorate' '5th-6th' '10th' '1st-4th' 'Preschool' '12th']\n",
      "age :  [39 50 38 53 28 37 49 52 31 42 30 23 34 25 32 43 40 54 35 59 56 19 20 45\n",
      " 22 48 21 24 57 44 18 47 46 41 29 36 79 27 67 33 76 17 55 61 70 64 71 68\n",
      " 51 58 26 60 90 66 65 77 62 63 80 72 74 69 73 81 78 75 82 83 84 85 88 86\n",
      " 87]\n",
      "capital-gain :  [ 2174.    nan     0. 14084.  5178.  5013.  2407. 14344. 15024.  7688.\n",
      " 34095.  4064.  4386.  7298.  1409.  3674.  1055.  3464.  2050.  2176.\n",
      "   594.  6849.  4101.  1111.  3411.  2597. 25236.  4650.  9386.  2463.\n",
      "  3103. 10605.  2964.  3325.  2580.  3471.  4865.  6514.  1471.  2329.\n",
      " 99999. 20051.  2105.  2885. 25124. 10520.  2202.  2961. 27828.  6767.\n",
      "  8614.  2228.  1506. 13550.  2635.  5556.  4787.  3781.  3137.  3818.\n",
      "  3942.   914.   401.  2829.  2977.  4934.  2062. 15020.  1424.  3273.\n",
      " 22040.  4416. 10566.   991.  4931.  1086.  7430.  6497.   114.  7896.\n",
      "  2346.  3432.  2907.  1151.  2414.  2290.  3418. 15831. 41310.  4508.\n",
      "  5455.  2538.  3456.  3908.  1848.  3887.  5721.  9562.  6418.  1455.\n",
      "  2036.  1831. 11678.  2936.  2993.  7443.  6360.  2354.  1797.  1173.\n",
      "  4687.  2009.  6097.  2653. 18481.  7978.  2387.  6723.  5060.]\n",
      "race :  ['White' 'Black' 'Asian-Pac-Islander' 'Amer-Indian-Eskimo' 'Other']\n",
      "capital-loss :  [   0 2042 1408 1573 1902 1887 1719 1762 2179 1816 1980 1977 1876 1340\n",
      " 2206 1741 1485 1564 2339 2415 1721 1380 2051 2352 1672  653 2392 1504\n",
      " 2001 1590 1651 1628 1848 1740 2002 1579 2258 1669 1602  419 2547 2174\n",
      " 2205 1138 2238  625 2377  213 1539  880 1092 1594 3004 2231 1844  810\n",
      " 2559 2057 1974  974 1825 1735 1258 2129 2603 2282  323 4356 2444 2246\n",
      " 2149 1617 1648 2824 2489 3770 1755 3683 1668 1726 2267 2457  155 3900\n",
      " 2201 1944 2467 2163 2754 2472 1411]\n",
      "hours-per-week :  [40 13 16 45 50 80 30 35 60 20 44 15 25 38 43 55 48 58 32 70  2 22 56 41\n",
      " 28 24 46 12 65 42  1 36 10 34 75 98 54  8  6 19 18 72  5  9 47 37 21 64\n",
      " 26 14  4 59 33  7 52 99 53 39 62 57 78 90 66 11 49 84 17 68 27  3 85 31\n",
      " 51 77 63 23 87 88 73 89 97 94 29 96 67 82 86 91 81 76 92 61 74 95]\n",
      "sex :  ['Male' 'Female']\n",
      "classification :  ['<=50K' '>50K']\n"
     ]
    }
   ],
   "source": [
    "# .. your code here ..\n",
    "# for i in range(len(df.columns)):\n",
    "#     print(df.iloc[:,i].unique())\n",
    "    \n",
    "    \n",
    "for i in col_name:\n",
    "    print(i+' : ', df.loc[:,i].unique())"
   ]
  },
  {
   "cell_type": "markdown",
   "metadata": {},
   "source": [
    "Look through your data and identify any potential categorical features. Ensure you properly encode any ordinal and nominal types using the methods discussed in the chapter.\n",
    "\n",
    "Be careful! Some features can be represented as either categorical or continuous (numerical). If you ever get confused, think to yourself what makes more sense generally---to represent such features with a continuous numeric type... or a series of categories?"
   ]
  },
  {
   "cell_type": "code",
   "execution_count": 39,
   "metadata": {},
   "outputs": [],
   "source": [
    "# .. your code here ..\n",
    "#categorical -  race,sex, \n",
    "#ordinal- edu, classif\n",
    "#nominal - age,cap-gain, cap-loss,"
   ]
  },
  {
   "cell_type": "code",
   "execution_count": 40,
   "metadata": {},
   "outputs": [
    {
     "data": {
      "text/plain": [
       "education                  category\n",
       "age                           int64\n",
       "capital-gain                float64\n",
       "capital-loss                  int64\n",
       "hours-per-week                int64\n",
       "race_Amer-Indian-Eskimo       uint8\n",
       "race_Asian-Pac-Islander       uint8\n",
       "race_Black                    uint8\n",
       "race_Other                    uint8\n",
       "race_White                    uint8\n",
       "sex_Female                    uint8\n",
       "sex_Male                      uint8\n",
       "classification_<=50K          uint8\n",
       "classification_>50K           uint8\n",
       "dtype: object"
      ]
     },
     "execution_count": 40,
     "metadata": {},
     "output_type": "execute_result"
    }
   ],
   "source": [
    "#education - ordinal\n",
    "education_ordered = ['Preschool', '1st-4th', '5th-6th', '7th-8th', '9th', '10th', '11th', '12th', 'HS-grad', 'Some-college', 'Bachelors', 'Masters', 'Doctorate']\n",
    "df.education=pd.Categorical(df['education'],categories=education_order,ordered=True)\n",
    "\n",
    "#race-categorical\n",
    "race_category=['White' 'Black' 'Asian-Pac-Islander' 'Amer-Indian-Eskimo' 'Other']\n",
    "df=pd.get_dummies(df,columns=['race'])\n",
    "\n",
    "#sex-cactegorical\n",
    "sex_cat=['Male' 'Female']\n",
    "df=pd.get_dummies(df,columns=['sex'])\n",
    "\n",
    "#classification - ordinal\n",
    "classification_cat=['<=50K' '>50K']\n",
    "df=pd.get_dummies(df,columns=['classification'])\n",
    "df.dtypes\n"
   ]
  },
  {
   "cell_type": "markdown",
   "metadata": {},
   "source": [
    "Lastly, print out your dataframe!"
   ]
  },
  {
   "cell_type": "code",
   "execution_count": 44,
   "metadata": {},
   "outputs": [
    {
     "data": {
      "text/html": [
       "<div>\n",
       "<style scoped>\n",
       "    .dataframe tbody tr th:only-of-type {\n",
       "        vertical-align: middle;\n",
       "    }\n",
       "\n",
       "    .dataframe tbody tr th {\n",
       "        vertical-align: top;\n",
       "    }\n",
       "\n",
       "    .dataframe thead th {\n",
       "        text-align: right;\n",
       "    }\n",
       "</style>\n",
       "<table border=\"1\" class=\"dataframe\">\n",
       "  <thead>\n",
       "    <tr style=\"text-align: right;\">\n",
       "      <th></th>\n",
       "      <th>education</th>\n",
       "      <th>age</th>\n",
       "      <th>capital-gain</th>\n",
       "      <th>capital-loss</th>\n",
       "      <th>hours-per-week</th>\n",
       "      <th>race_Amer-Indian-Eskimo</th>\n",
       "      <th>race_Asian-Pac-Islander</th>\n",
       "      <th>race_Black</th>\n",
       "      <th>race_Other</th>\n",
       "      <th>race_White</th>\n",
       "      <th>sex_Female</th>\n",
       "      <th>sex_Male</th>\n",
       "      <th>classification_&lt;=50K</th>\n",
       "      <th>classification_&gt;50K</th>\n",
       "    </tr>\n",
       "  </thead>\n",
       "  <tbody>\n",
       "    <tr>\n",
       "      <th>0</th>\n",
       "      <td>Bachelors</td>\n",
       "      <td>39</td>\n",
       "      <td>2174.0</td>\n",
       "      <td>0</td>\n",
       "      <td>40</td>\n",
       "      <td>0</td>\n",
       "      <td>0</td>\n",
       "      <td>0</td>\n",
       "      <td>0</td>\n",
       "      <td>1</td>\n",
       "      <td>0</td>\n",
       "      <td>1</td>\n",
       "      <td>1</td>\n",
       "      <td>0</td>\n",
       "    </tr>\n",
       "    <tr>\n",
       "      <th>1</th>\n",
       "      <td>Bachelors</td>\n",
       "      <td>50</td>\n",
       "      <td>NaN</td>\n",
       "      <td>0</td>\n",
       "      <td>13</td>\n",
       "      <td>0</td>\n",
       "      <td>0</td>\n",
       "      <td>0</td>\n",
       "      <td>0</td>\n",
       "      <td>1</td>\n",
       "      <td>0</td>\n",
       "      <td>1</td>\n",
       "      <td>1</td>\n",
       "      <td>0</td>\n",
       "    </tr>\n",
       "    <tr>\n",
       "      <th>2</th>\n",
       "      <td>HS-grad</td>\n",
       "      <td>38</td>\n",
       "      <td>NaN</td>\n",
       "      <td>0</td>\n",
       "      <td>40</td>\n",
       "      <td>0</td>\n",
       "      <td>0</td>\n",
       "      <td>0</td>\n",
       "      <td>0</td>\n",
       "      <td>1</td>\n",
       "      <td>0</td>\n",
       "      <td>1</td>\n",
       "      <td>1</td>\n",
       "      <td>0</td>\n",
       "    </tr>\n",
       "    <tr>\n",
       "      <th>3</th>\n",
       "      <td>11th</td>\n",
       "      <td>53</td>\n",
       "      <td>NaN</td>\n",
       "      <td>0</td>\n",
       "      <td>40</td>\n",
       "      <td>0</td>\n",
       "      <td>0</td>\n",
       "      <td>1</td>\n",
       "      <td>0</td>\n",
       "      <td>0</td>\n",
       "      <td>0</td>\n",
       "      <td>1</td>\n",
       "      <td>1</td>\n",
       "      <td>0</td>\n",
       "    </tr>\n",
       "    <tr>\n",
       "      <th>4</th>\n",
       "      <td>Bachelors</td>\n",
       "      <td>28</td>\n",
       "      <td>0.0</td>\n",
       "      <td>0</td>\n",
       "      <td>40</td>\n",
       "      <td>0</td>\n",
       "      <td>0</td>\n",
       "      <td>1</td>\n",
       "      <td>0</td>\n",
       "      <td>0</td>\n",
       "      <td>1</td>\n",
       "      <td>0</td>\n",
       "      <td>1</td>\n",
       "      <td>0</td>\n",
       "    </tr>\n",
       "  </tbody>\n",
       "</table>\n",
       "</div>"
      ],
      "text/plain": [
       "   education  age  capital-gain  capital-loss  hours-per-week  \\\n",
       "0  Bachelors   39        2174.0             0              40   \n",
       "1  Bachelors   50           NaN             0              13   \n",
       "2    HS-grad   38           NaN             0              40   \n",
       "3       11th   53           NaN             0              40   \n",
       "4  Bachelors   28           0.0             0              40   \n",
       "\n",
       "   race_Amer-Indian-Eskimo  race_Asian-Pac-Islander  race_Black  race_Other  \\\n",
       "0                        0                        0           0           0   \n",
       "1                        0                        0           0           0   \n",
       "2                        0                        0           0           0   \n",
       "3                        0                        0           1           0   \n",
       "4                        0                        0           1           0   \n",
       "\n",
       "   race_White  sex_Female  sex_Male  classification_<=50K  classification_>50K  \n",
       "0           1           0         1                     1                    0  \n",
       "1           1           0         1                     1                    0  \n",
       "2           1           0         1                     1                    0  \n",
       "3           0           0         1                     1                    0  \n",
       "4           0           1         0                     1                    0  "
      ]
     },
     "execution_count": 44,
     "metadata": {},
     "output_type": "execute_result"
    }
   ],
   "source": [
    "# .. your code here ..\n",
    "df.head()"
   ]
  },
  {
   "cell_type": "markdown",
   "metadata": {},
   "source": [
    "### Lab Question 1\n",
    "\n",
    "Before you made any changes to the downloaded dataset, how many of the columns were ordinal?\n",
    "<p><b>Ans. 2</b></p>\n",
    "\n",
    "<p>Ordinal features are those that are categorical but have an underlaying ordering to them, such as: Tall, Medium, and Small. In this dataset, there are only two ordinal features: education and classification.</p>\n",
    "\n",
    "Education is ordinal because people move from one education group to the next based on the amount of their studies. The classification column is ordinal because it's based on how much a person makes. If we had the actual numeric feature of their precise annual income, there is no doubt it would be a continuous column. Since we only know if they make more or less than 50k, it is therefore ordinal.\n"
   ]
  },
  {
   "cell_type": "markdown",
   "metadata": {},
   "source": [
    "### Lab Question 2\n",
    "\n",
    "<p>Before you made any changes to the downloaded dataset, how many of the columns were nominal?</p>\n",
    "<p><b>Ans. 2</b></p>\n",
    "\n",
    "Race and sex are the only columns that are nominal. Nominal features are those that are categorical, but lack any innate ordering.\n",
    "\n",
    "\n",
    "\n"
   ]
  },
  {
   "cell_type": "code",
   "execution_count": null,
   "metadata": {},
   "outputs": [],
   "source": []
  }
 ],
 "metadata": {
  "anaconda-cloud": {},
  "kernelspec": {
   "display_name": "Python 3",
   "language": "python",
   "name": "python3"
  },
  "language_info": {
   "codemirror_mode": {
    "name": "ipython",
    "version": 3
   },
   "file_extension": ".py",
   "mimetype": "text/x-python",
   "name": "python",
   "nbconvert_exporter": "python",
   "pygments_lexer": "ipython3",
   "version": "3.6.4"
  },
  "toc": {
   "colors": {
    "hover_highlight": "#DAA520",
    "running_highlight": "#FF0000",
    "selected_highlight": "#FFD700"
   },
   "moveMenuLeft": true,
   "nav_menu": {
    "height": "58px",
    "width": "251px"
   },
   "navigate_menu": true,
   "number_sections": true,
   "sideBar": true,
   "threshold": 4,
   "toc_cell": false,
   "toc_section_display": "block",
   "toc_window_display": false,
   "widenNotebook": false
  }
 },
 "nbformat": 4,
 "nbformat_minor": 2
}
