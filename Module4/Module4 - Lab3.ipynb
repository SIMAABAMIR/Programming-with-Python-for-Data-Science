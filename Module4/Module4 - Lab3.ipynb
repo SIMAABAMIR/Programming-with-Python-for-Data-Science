{
 "cells": [
  {
   "cell_type": "markdown",
   "metadata": {},
   "source": [
    "# DAT210x - Programming with Python for DS"
   ]
  },
  {
   "cell_type": "markdown",
   "metadata": {},
   "source": [
    "## Module4- Lab3\n",
    "\n",
    "### Lab Assignment 3\n",
    "You're not quite done with chronic kidney disease yet—we still need to beat it! In the previous lab assignment, you focused only on three features out of the entire dataset: **bgr, rc, and wc**. That should have seemed strange to you. How did we know to direct your attention only to those features? The answer, of course, is through PCA. By running PCA on the raw dataset data, we were able to find suitable candidate features to show the importance of feature scaling. For this lab, there will be no starter code. Copy your finished Lab 2, **assignment2.py** file over as **assignment3.py** and start working from that.\n",
    "\n",
    "<ol>\n",
    "<li>Head back over to the dataset page (or you can look at the kidney_disease.names file in your /Module4/Datasets/ directory). Each column has a type listed, e.g. numeric, nominal, etc. Here is a formatted list of the nominal features for your copy and pasting pleasure:\n",
    "\n",
    "> **['id', 'classification', 'rbc', 'pc', 'pcc', 'ba', 'htn', 'dm', 'cad', 'appet', 'pe', 'ane']**\n",
    "\n",
    "Instead of using an indexer to select just the **bgr, rc, and wc**, alter your assignment code to **drop all the nominal features** listed above. Be sure you select the right axis for columns and not rows, otherwise Pandas will complain!\n",
    "<li>Right after you print out your dataset's dtypes, add an exit() so you can inspect the results. Does everything look like it should / properly numeric? If not, make code changes to coerce the remaining column(s).\n",
    "<li>Run your assignment and then answer the questions below.\n",
    "<li>Alter your code so that you only drop the id and classification columns. If you loaded your dataset properly, you won't have to drop the id column, because it wouldn't have been included as a feature. For the remaining 10 nominal features, properly encode them by as explained in the Feature Representation section by creating new, boolean columns using Pandas .get_dummies(). You should be able to carry that out with a single line of code. Run your assignment again and see if your results have changed at all.\n",
    "Important Notes:\n",
    "\n",
    "Once you've completed this lab, be sure to drop by the Dive Deeper section and read the article on using PCA on boolean features! Also, it's important to keep in mind that PCA is an unsupervised learning technique. It neither knows or even cares about your data's labels and classifications. In the previous two labs, you used a pre-labeled dataset only to see how applying PCA transformations can effect other machine learning modeling process further down the analysis pipeline."
   ]
  },
  {
   "cell_type": "markdown",
   "metadata": {
    "collapsed": true
   },
   "source": [
    "This code is intentionally missing! Read the directions on the course lab page!"
   ]
  },
  {
   "cell_type": "code",
   "execution_count": 109,
   "metadata": {},
   "outputs": [],
   "source": [
    "# .. your code here .."
   ]
  },
  {
   "cell_type": "code",
   "execution_count": 123,
   "metadata": {},
   "outputs": [],
   "source": [
    "import math\n",
    "import pandas as pd\n",
    "import matplotlib.pyplot as plt\n",
    "import matplotlib\n",
    "import helper\n",
    "%matplotlib inline\n",
    "from sklearn import preprocessing"
   ]
  },
  {
   "cell_type": "code",
   "execution_count": 124,
   "metadata": {},
   "outputs": [],
   "source": [
    "# Look pretty...\n",
    "\n",
    "# matplotlib.style.use('ggplot')\n",
    "plt.style.use('ggplot')"
   ]
  },
  {
   "cell_type": "code",
   "execution_count": 125,
   "metadata": {},
   "outputs": [],
   "source": [
    "# Do * NOT * alter this line, until instructed!\n",
    "scaleFeatures = False"
   ]
  },
  {
   "cell_type": "code",
   "execution_count": 128,
   "metadata": {},
   "outputs": [
    {
     "data": {
      "text/html": [
       "<div>\n",
       "<style scoped>\n",
       "    .dataframe tbody tr th:only-of-type {\n",
       "        vertical-align: middle;\n",
       "    }\n",
       "\n",
       "    .dataframe tbody tr th {\n",
       "        vertical-align: top;\n",
       "    }\n",
       "\n",
       "    .dataframe thead th {\n",
       "        text-align: right;\n",
       "    }\n",
       "</style>\n",
       "<table border=\"1\" class=\"dataframe\">\n",
       "  <thead>\n",
       "    <tr style=\"text-align: right;\">\n",
       "      <th></th>\n",
       "      <th>id</th>\n",
       "      <th>age</th>\n",
       "      <th>bp</th>\n",
       "      <th>sg</th>\n",
       "      <th>al</th>\n",
       "      <th>su</th>\n",
       "      <th>rbc</th>\n",
       "      <th>pc</th>\n",
       "      <th>pcc</th>\n",
       "      <th>ba</th>\n",
       "      <th>...</th>\n",
       "      <th>pcv</th>\n",
       "      <th>wc</th>\n",
       "      <th>rc</th>\n",
       "      <th>htn</th>\n",
       "      <th>dm</th>\n",
       "      <th>cad</th>\n",
       "      <th>appet</th>\n",
       "      <th>pe</th>\n",
       "      <th>ane</th>\n",
       "      <th>classification</th>\n",
       "    </tr>\n",
       "  </thead>\n",
       "  <tbody>\n",
       "    <tr>\n",
       "      <th>0</th>\n",
       "      <td>0</td>\n",
       "      <td>48.0</td>\n",
       "      <td>80.0</td>\n",
       "      <td>1.020</td>\n",
       "      <td>1.0</td>\n",
       "      <td>0.0</td>\n",
       "      <td>NaN</td>\n",
       "      <td>normal</td>\n",
       "      <td>notpresent</td>\n",
       "      <td>notpresent</td>\n",
       "      <td>...</td>\n",
       "      <td>44</td>\n",
       "      <td>7800</td>\n",
       "      <td>5.2</td>\n",
       "      <td>yes</td>\n",
       "      <td>yes</td>\n",
       "      <td>no</td>\n",
       "      <td>good</td>\n",
       "      <td>no</td>\n",
       "      <td>no</td>\n",
       "      <td>ckd</td>\n",
       "    </tr>\n",
       "    <tr>\n",
       "      <th>1</th>\n",
       "      <td>1</td>\n",
       "      <td>7.0</td>\n",
       "      <td>50.0</td>\n",
       "      <td>1.020</td>\n",
       "      <td>4.0</td>\n",
       "      <td>0.0</td>\n",
       "      <td>NaN</td>\n",
       "      <td>normal</td>\n",
       "      <td>notpresent</td>\n",
       "      <td>notpresent</td>\n",
       "      <td>...</td>\n",
       "      <td>38</td>\n",
       "      <td>6000</td>\n",
       "      <td>NaN</td>\n",
       "      <td>no</td>\n",
       "      <td>no</td>\n",
       "      <td>no</td>\n",
       "      <td>good</td>\n",
       "      <td>no</td>\n",
       "      <td>no</td>\n",
       "      <td>ckd</td>\n",
       "    </tr>\n",
       "    <tr>\n",
       "      <th>2</th>\n",
       "      <td>2</td>\n",
       "      <td>62.0</td>\n",
       "      <td>80.0</td>\n",
       "      <td>1.010</td>\n",
       "      <td>2.0</td>\n",
       "      <td>3.0</td>\n",
       "      <td>normal</td>\n",
       "      <td>normal</td>\n",
       "      <td>notpresent</td>\n",
       "      <td>notpresent</td>\n",
       "      <td>...</td>\n",
       "      <td>31</td>\n",
       "      <td>7500</td>\n",
       "      <td>NaN</td>\n",
       "      <td>no</td>\n",
       "      <td>yes</td>\n",
       "      <td>no</td>\n",
       "      <td>poor</td>\n",
       "      <td>no</td>\n",
       "      <td>yes</td>\n",
       "      <td>ckd</td>\n",
       "    </tr>\n",
       "    <tr>\n",
       "      <th>3</th>\n",
       "      <td>3</td>\n",
       "      <td>48.0</td>\n",
       "      <td>70.0</td>\n",
       "      <td>1.005</td>\n",
       "      <td>4.0</td>\n",
       "      <td>0.0</td>\n",
       "      <td>normal</td>\n",
       "      <td>abnormal</td>\n",
       "      <td>present</td>\n",
       "      <td>notpresent</td>\n",
       "      <td>...</td>\n",
       "      <td>32</td>\n",
       "      <td>6700</td>\n",
       "      <td>3.9</td>\n",
       "      <td>yes</td>\n",
       "      <td>no</td>\n",
       "      <td>no</td>\n",
       "      <td>poor</td>\n",
       "      <td>yes</td>\n",
       "      <td>yes</td>\n",
       "      <td>ckd</td>\n",
       "    </tr>\n",
       "    <tr>\n",
       "      <th>4</th>\n",
       "      <td>4</td>\n",
       "      <td>51.0</td>\n",
       "      <td>80.0</td>\n",
       "      <td>1.010</td>\n",
       "      <td>2.0</td>\n",
       "      <td>0.0</td>\n",
       "      <td>normal</td>\n",
       "      <td>normal</td>\n",
       "      <td>notpresent</td>\n",
       "      <td>notpresent</td>\n",
       "      <td>...</td>\n",
       "      <td>35</td>\n",
       "      <td>7300</td>\n",
       "      <td>4.6</td>\n",
       "      <td>no</td>\n",
       "      <td>no</td>\n",
       "      <td>no</td>\n",
       "      <td>good</td>\n",
       "      <td>no</td>\n",
       "      <td>no</td>\n",
       "      <td>ckd</td>\n",
       "    </tr>\n",
       "  </tbody>\n",
       "</table>\n",
       "<p>5 rows × 26 columns</p>\n",
       "</div>"
      ],
      "text/plain": [
       "   id   age    bp     sg   al   su     rbc        pc         pcc          ba  \\\n",
       "0   0  48.0  80.0  1.020  1.0  0.0     NaN    normal  notpresent  notpresent   \n",
       "1   1   7.0  50.0  1.020  4.0  0.0     NaN    normal  notpresent  notpresent   \n",
       "2   2  62.0  80.0  1.010  2.0  3.0  normal    normal  notpresent  notpresent   \n",
       "3   3  48.0  70.0  1.005  4.0  0.0  normal  abnormal     present  notpresent   \n",
       "4   4  51.0  80.0  1.010  2.0  0.0  normal    normal  notpresent  notpresent   \n",
       "\n",
       "       ...        pcv    wc   rc  htn   dm  cad appet   pe  ane classification  \n",
       "0      ...         44  7800  5.2  yes  yes   no  good   no   no            ckd  \n",
       "1      ...         38  6000  NaN   no   no   no  good   no   no            ckd  \n",
       "2      ...         31  7500  NaN   no  yes   no  poor   no  yes            ckd  \n",
       "3      ...         32  6700  3.9  yes   no   no  poor  yes  yes            ckd  \n",
       "4      ...         35  7300  4.6   no   no   no  good   no   no            ckd  \n",
       "\n",
       "[5 rows x 26 columns]"
      ]
     },
     "execution_count": 128,
     "metadata": {},
     "output_type": "execute_result"
    }
   ],
   "source": [
    "df = pd.read_csv('Datasets/kidney_disease.csv')\n",
    "df.head()"
   ]
  },
  {
   "cell_type": "code",
   "execution_count": 129,
   "metadata": {},
   "outputs": [],
   "source": [
    "# Create some color coded labels; the actual label feature will be removed prior to executing PCA, since it's unsupervised.\n",
    "# You're only labeling by color so you can see the effects of PCA.\n",
    "labels = ['red' if i=='ckd' else 'green' for i in df.classification]"
   ]
  },
  {
   "cell_type": "code",
   "execution_count": 130,
   "metadata": {},
   "outputs": [],
   "source": [
    "df = df.drop(labels=['id', 'classification'], axis=1)\n",
    "df = df.reset_index(drop=True)\n",
    "nominal_ = ['rbc', 'pc', 'pcc', 'ba', 'htn','dm', 'cad', 'appet', 'pe', 'ane']\n",
    "\n",
    "df = df.dropna(axis=0)\n",
    "\n",
    "# TODO: use .get_dummies() on nominal features\n",
    "df = pd.get_dummies(df, columns=nominal_)\n"
   ]
  },
  {
   "cell_type": "code",
   "execution_count": 131,
   "metadata": {},
   "outputs": [],
   "source": [
    "# nom=['id', 'classification', 'rbc', 'pc', 'pcc', 'ba', 'htn', 'dm', 'cad', 'appet', 'pe', 'ane']\n",
    "# nom=['id', 'classification']\n",
    "\n",
    "# df.dropna(axis=0,how='any',inplace=True)\n",
    "# df.drop(labels=nom,axis=1,inplace=True)\n",
    "# break();\n",
    "\n",
    "# df.drop?"
   ]
  },
  {
   "cell_type": "code",
   "execution_count": 132,
   "metadata": {},
   "outputs": [
    {
     "data": {
      "text/plain": [
       "age               float64\n",
       "bp                float64\n",
       "sg                float64\n",
       "al                float64\n",
       "su                float64\n",
       "bgr               float64\n",
       "bu                float64\n",
       "sc                float64\n",
       "sod               float64\n",
       "pot               float64\n",
       "hemo              float64\n",
       "pcv                object\n",
       "wc                 object\n",
       "rc                 object\n",
       "rbc_abnormal        uint8\n",
       "rbc_normal          uint8\n",
       "pc_abnormal         uint8\n",
       "pc_normal           uint8\n",
       "pcc_notpresent      uint8\n",
       "pcc_present         uint8\n",
       "ba_notpresent       uint8\n",
       "ba_present          uint8\n",
       "htn_no              uint8\n",
       "htn_yes             uint8\n",
       "dm_no               uint8\n",
       "dm_yes              uint8\n",
       "cad_no              uint8\n",
       "cad_yes             uint8\n",
       "appet_good          uint8\n",
       "appet_poor          uint8\n",
       "pe_no               uint8\n",
       "pe_yes              uint8\n",
       "ane_no              uint8\n",
       "ane_yes             uint8\n",
       "dtype: object"
      ]
     },
     "execution_count": 132,
     "metadata": {},
     "output_type": "execute_result"
    }
   ],
   "source": [
    "df.head()\n",
    "df.dtypes"
   ]
  },
  {
   "cell_type": "code",
   "execution_count": 117,
   "metadata": {},
   "outputs": [],
   "source": [
    "df.pcv=pd.to_numeric(df.pcv,errors='coerce')\n",
    "df.wc=pd.to_numeric(df.wc,errors='coerce')\n",
    "df.rc=pd.to_numeric(df.rc,errors='coerce')"
   ]
  },
  {
   "cell_type": "code",
   "execution_count": 118,
   "metadata": {},
   "outputs": [
    {
     "data": {
      "text/plain": [
       "age      float64\n",
       "bp       float64\n",
       "sg       float64\n",
       "al       float64\n",
       "su       float64\n",
       "rbc       object\n",
       "pc        object\n",
       "pcc       object\n",
       "ba        object\n",
       "bgr      float64\n",
       "bu       float64\n",
       "sc       float64\n",
       "sod      float64\n",
       "pot      float64\n",
       "hemo     float64\n",
       "pcv        int64\n",
       "wc         int64\n",
       "rc       float64\n",
       "htn       object\n",
       "dm        object\n",
       "cad       object\n",
       "appet     object\n",
       "pe        object\n",
       "ane       object\n",
       "dtype: object"
      ]
     },
     "execution_count": 118,
     "metadata": {},
     "output_type": "execute_result"
    }
   ],
   "source": [
    "df.dtypes"
   ]
  },
  {
   "cell_type": "code",
   "execution_count": 119,
   "metadata": {},
   "outputs": [
    {
     "data": {
      "text/plain": [
       "age      158\n",
       "bp       158\n",
       "sg       158\n",
       "al       158\n",
       "su       158\n",
       "rbc      158\n",
       "pc       158\n",
       "pcc      158\n",
       "ba       158\n",
       "bgr      158\n",
       "bu       158\n",
       "sc       158\n",
       "sod      158\n",
       "pot      158\n",
       "hemo     158\n",
       "pcv      158\n",
       "wc       158\n",
       "rc       158\n",
       "htn      158\n",
       "dm       158\n",
       "cad      158\n",
       "appet    158\n",
       "pe       158\n",
       "ane      158\n",
       "dtype: int64"
      ]
     },
     "execution_count": 119,
     "metadata": {},
     "output_type": "execute_result"
    }
   ],
   "source": [
    "df.count()"
   ]
  },
  {
   "cell_type": "code",
   "execution_count": 120,
   "metadata": {},
   "outputs": [
    {
     "name": "stdout",
     "output_type": "stream",
     "text": [
      "age     2.406297e+02\n",
      "bp      1.248891e+02\n",
      "sg      3.023865e-05\n",
      "al      1.996936e+00\n",
      "su      6.616141e-01\n",
      "bgr     4.217182e+03\n",
      "bu      2.246322e+03\n",
      "sc      9.471717e+00\n",
      "sod     5.609143e+01\n",
      "pot     1.208501e+01\n",
      "hemo    8.307100e+00\n",
      "pcv     8.290402e+01\n",
      "wc      9.777380e+06\n",
      "rc      1.039104e+00\n",
      "dtype: float64\n",
      "This is the describe output:                age          bp          sg          al          su         bgr  \\\n",
      "count  158.000000  158.000000  158.000000  158.000000  158.000000  158.000000   \n",
      "mean    49.563291   74.050633    1.019873    0.797468    0.253165  131.341772   \n",
      "std     15.512244   11.175381    0.005499    1.413130    0.813397   64.939832   \n",
      "min      6.000000   50.000000    1.005000    0.000000    0.000000   70.000000   \n",
      "25%     39.250000   60.000000    1.020000    0.000000    0.000000   97.000000   \n",
      "50%     50.500000   80.000000    1.020000    0.000000    0.000000  115.500000   \n",
      "75%     60.000000   80.000000    1.025000    1.000000    0.000000  131.750000   \n",
      "max     83.000000  110.000000    1.025000    4.000000    5.000000  490.000000   \n",
      "\n",
      "               bu          sc         sod         pot        hemo         pcv  \\\n",
      "count  158.000000  158.000000  158.000000  158.000000  158.000000  158.000000   \n",
      "mean    52.575949    2.188608  138.848101    4.636709   13.687342   41.917722   \n",
      "std     47.395382    3.077615    7.489421    3.476351    2.882204    9.105164   \n",
      "min     10.000000    0.400000  111.000000    2.500000    3.100000    9.000000   \n",
      "25%     26.000000    0.700000  135.000000    3.700000   12.600000   37.500000   \n",
      "50%     39.500000    1.100000  139.000000    4.500000   14.250000   44.000000   \n",
      "75%     49.750000    1.600000  144.000000    4.900000   15.775000   48.000000   \n",
      "max    309.000000   15.200000  150.000000   47.000000   17.800000   54.000000   \n",
      "\n",
      "                 wc          rc  \n",
      "count    158.000000  158.000000  \n",
      "mean    8475.949367    4.891772  \n",
      "std     3126.880181    1.019364  \n",
      "min     3800.000000    2.100000  \n",
      "25%     6525.000000    4.500000  \n",
      "50%     7800.000000    4.950000  \n",
      "75%     9775.000000    5.600000  \n",
      "max    26400.000000    8.000000  \n"
     ]
    }
   ],
   "source": [
    "# TODO: PCA Operates based on variance. The variable with the greatest variance will dominate. Go ahead and peek into your data using\n",
    "# a command that will check the variance of every feature in your dataset. Print out the results. Also print out the results of\n",
    "# running .describe on your dataset.\n",
    "#\n",
    "# Hint: If you don't see all three variables: 'bgr','wc' and 'rc', then you probably didn't complete the previous step properly.\n",
    "#\n",
    "# .. your code here ..\n",
    "print (df.var())\n",
    "print (\"This is the describe output: \", df.describe())"
   ]
  },
  {
   "cell_type": "code",
   "execution_count": 121,
   "metadata": {},
   "outputs": [],
   "source": [
    "# TODO: This method assumes your dataframe is called df. If it isn't, make the appropriate changes. Don't alter the code\n",
    "# in scaleFeatures() just yet though!\n",
    "#\n",
    "# .. your code adjustment here ..\n",
    "if scaleFeatures: df = helper.scaleFeatures(df)"
   ]
  },
  {
   "cell_type": "code",
   "execution_count": 122,
   "metadata": {},
   "outputs": [
    {
     "ename": "ValueError",
     "evalue": "could not convert string to float: 'no'",
     "output_type": "error",
     "traceback": [
      "\u001b[1;31m---------------------------------------------------------------------------\u001b[0m",
      "\u001b[1;31mValueError\u001b[0m                                Traceback (most recent call last)",
      "\u001b[1;32m<ipython-input-122-2d550953a80c>\u001b[0m in \u001b[0;36m<module>\u001b[1;34m()\u001b[0m\n\u001b[0;32m      5\u001b[0m \u001b[1;32mfrom\u001b[0m \u001b[0msklearn\u001b[0m\u001b[1;33m.\u001b[0m\u001b[0mdecomposition\u001b[0m \u001b[1;32mimport\u001b[0m \u001b[0mPCA\u001b[0m\u001b[1;33m\u001b[0m\u001b[0m\n\u001b[0;32m      6\u001b[0m \u001b[0mpca\u001b[0m \u001b[1;33m=\u001b[0m \u001b[0mPCA\u001b[0m\u001b[1;33m(\u001b[0m\u001b[0mn_components\u001b[0m \u001b[1;33m=\u001b[0m \u001b[1;36m2\u001b[0m\u001b[1;33m)\u001b[0m\u001b[1;33m\u001b[0m\u001b[0m\n\u001b[1;32m----> 7\u001b[1;33m \u001b[0mpca\u001b[0m\u001b[1;33m.\u001b[0m\u001b[0mfit\u001b[0m\u001b[1;33m(\u001b[0m\u001b[0mdf\u001b[0m\u001b[1;33m)\u001b[0m\u001b[1;33m\u001b[0m\u001b[0m\n\u001b[0m\u001b[0;32m      8\u001b[0m \u001b[0mT\u001b[0m \u001b[1;33m=\u001b[0m \u001b[0mpca\u001b[0m\u001b[1;33m.\u001b[0m\u001b[0mtransform\u001b[0m\u001b[1;33m(\u001b[0m\u001b[0mdf\u001b[0m\u001b[1;33m)\u001b[0m\u001b[1;33m\u001b[0m\u001b[0m\n",
      "\u001b[1;32mC:\\ProgramData\\Anaconda3\\lib\\site-packages\\sklearn\\decomposition\\pca.py\u001b[0m in \u001b[0;36mfit\u001b[1;34m(self, X, y)\u001b[0m\n\u001b[0;32m    327\u001b[0m             \u001b[0mReturns\u001b[0m \u001b[0mthe\u001b[0m \u001b[0minstance\u001b[0m \u001b[0mitself\u001b[0m\u001b[1;33m.\u001b[0m\u001b[1;33m\u001b[0m\u001b[0m\n\u001b[0;32m    328\u001b[0m         \"\"\"\n\u001b[1;32m--> 329\u001b[1;33m         \u001b[0mself\u001b[0m\u001b[1;33m.\u001b[0m\u001b[0m_fit\u001b[0m\u001b[1;33m(\u001b[0m\u001b[0mX\u001b[0m\u001b[1;33m)\u001b[0m\u001b[1;33m\u001b[0m\u001b[0m\n\u001b[0m\u001b[0;32m    330\u001b[0m         \u001b[1;32mreturn\u001b[0m \u001b[0mself\u001b[0m\u001b[1;33m\u001b[0m\u001b[0m\n\u001b[0;32m    331\u001b[0m \u001b[1;33m\u001b[0m\u001b[0m\n",
      "\u001b[1;32mC:\\ProgramData\\Anaconda3\\lib\\site-packages\\sklearn\\decomposition\\pca.py\u001b[0m in \u001b[0;36m_fit\u001b[1;34m(self, X)\u001b[0m\n\u001b[0;32m    368\u001b[0m \u001b[1;33m\u001b[0m\u001b[0m\n\u001b[0;32m    369\u001b[0m         X = check_array(X, dtype=[np.float64, np.float32], ensure_2d=True,\n\u001b[1;32m--> 370\u001b[1;33m                         copy=self.copy)\n\u001b[0m\u001b[0;32m    371\u001b[0m \u001b[1;33m\u001b[0m\u001b[0m\n\u001b[0;32m    372\u001b[0m         \u001b[1;31m# Handle n_components==None\u001b[0m\u001b[1;33m\u001b[0m\u001b[1;33m\u001b[0m\u001b[0m\n",
      "\u001b[1;32mC:\\ProgramData\\Anaconda3\\lib\\site-packages\\sklearn\\utils\\validation.py\u001b[0m in \u001b[0;36mcheck_array\u001b[1;34m(array, accept_sparse, dtype, order, copy, force_all_finite, ensure_2d, allow_nd, ensure_min_samples, ensure_min_features, warn_on_dtype, estimator)\u001b[0m\n\u001b[0;32m    431\u001b[0m                                       force_all_finite)\n\u001b[0;32m    432\u001b[0m     \u001b[1;32melse\u001b[0m\u001b[1;33m:\u001b[0m\u001b[1;33m\u001b[0m\u001b[0m\n\u001b[1;32m--> 433\u001b[1;33m         \u001b[0marray\u001b[0m \u001b[1;33m=\u001b[0m \u001b[0mnp\u001b[0m\u001b[1;33m.\u001b[0m\u001b[0marray\u001b[0m\u001b[1;33m(\u001b[0m\u001b[0marray\u001b[0m\u001b[1;33m,\u001b[0m \u001b[0mdtype\u001b[0m\u001b[1;33m=\u001b[0m\u001b[0mdtype\u001b[0m\u001b[1;33m,\u001b[0m \u001b[0morder\u001b[0m\u001b[1;33m=\u001b[0m\u001b[0morder\u001b[0m\u001b[1;33m,\u001b[0m \u001b[0mcopy\u001b[0m\u001b[1;33m=\u001b[0m\u001b[0mcopy\u001b[0m\u001b[1;33m)\u001b[0m\u001b[1;33m\u001b[0m\u001b[0m\n\u001b[0m\u001b[0;32m    434\u001b[0m \u001b[1;33m\u001b[0m\u001b[0m\n\u001b[0;32m    435\u001b[0m         \u001b[1;32mif\u001b[0m \u001b[0mensure_2d\u001b[0m\u001b[1;33m:\u001b[0m\u001b[1;33m\u001b[0m\u001b[0m\n",
      "\u001b[1;31mValueError\u001b[0m: could not convert string to float: 'no'"
     ]
    }
   ],
   "source": [
    "# TODO: Run PCA on your dataset and reduce it to 2 components. Ensure your PCA instance is saved in a variable called 'pca',\n",
    "# and that the results of your transformation are saved in 'T'.\n",
    "#\n",
    "# .. your code here ..\n",
    "from sklearn.decomposition import PCA\n",
    "pca = PCA(n_components = 2)\n",
    "pca.fit(df)\n",
    "T = pca.transform(df)"
   ]
  },
  {
   "cell_type": "code",
   "execution_count": 108,
   "metadata": {},
   "outputs": [
    {
     "data": {
      "image/png": "[encoded data removed]",
      "text/plain": [
       "<matplotlib.figure.Figure at 0x21abd5204e0>"
      ]
     },
     "metadata": {},
     "output_type": "display_data"
    }
   ],
   "source": [
    "# Plot the transformed data as a scatter plot. Recall that transforming the data will result in a NumPy NDArray. You can\n",
    "# either use MatPlotLib to graph it directly, or you can convert it to DataFrame and have pandas do it for you.\n",
    "#\n",
    "# Since we've already demonstrated how to plot directly with MatPlotLib in Module4/assignment1.py, this time we'll convert\n",
    "# to a Pandas Dataframe.\n",
    "#\n",
    "# Since we transformed via PCA, we no longer have column names. We know we are in P.C. space, so we'll just define the\n",
    "# coordinates accordingly:\n",
    "ax = helper.drawVectors(T, pca.components_, df.columns.values, plt, scaleFeatures)\n",
    "T = pd.DataFrame(T)\n",
    "T.columns = ['component1', 'component2']\n",
    "T.plot.scatter(x='component1', y='component2', marker='o', c = labels, alpha=0.75, ax=ax)\n",
    "plt.show()"
   ]
  },
  {
   "cell_type": "code",
   "execution_count": null,
   "metadata": {},
   "outputs": [],
   "source": []
  },
  {
   "cell_type": "code",
   "execution_count": null,
   "metadata": {},
   "outputs": [],
   "source": []
  },
  {
   "cell_type": "code",
   "execution_count": null,
   "metadata": {},
   "outputs": [],
   "source": []
  },
  {
   "cell_type": "code",
   "execution_count": null,
   "metadata": {},
   "outputs": [],
   "source": []
  }
 ],
 "metadata": {
  "anaconda-cloud": {},
  "kernelspec": {
   "display_name": "Python 3",
   "language": "python",
   "name": "python3"
  },
  "language_info": {
   "codemirror_mode": {
    "name": "ipython",
    "version": 3
   },
   "file_extension": ".py",
   "mimetype": "text/x-python",
   "name": "python",
   "nbconvert_exporter": "python",
   "pygments_lexer": "ipython3",
   "version": "3.6.4"
  },
  "toc": {
   "colors": {
    "hover_highlight": "#DAA520",
    "running_highlight": "#FF0000",
    "selected_highlight": "#FFD700"
   },
   "moveMenuLeft": true,
   "nav_menu": {
    "height": "58px",
    "width": "252px"
   },
   "navigate_menu": true,
   "number_sections": true,
   "sideBar": true,
   "threshold": 4,
   "toc_cell": false,
   "toc_section_display": "block",
   "toc_window_display": false,
   "widenNotebook": false
  }
 },
 "nbformat": 4,
 "nbformat_minor": 2
}
